{
 "cells": [
  {
   "cell_type": "code",
   "execution_count": 1,
   "metadata": {
    "collapsed": true
   },
   "outputs": [],
   "source": [
    "import numpy as np\n",
    "from matplotlib import pyplot as plt"
   ]
  },
  {
   "cell_type": "code",
   "execution_count": 2,
   "metadata": {
    "collapsed": true
   },
   "outputs": [],
   "source": [
    "np.random.seed(2342)"
   ]
  },
  {
   "cell_type": "code",
   "execution_count": 3,
   "metadata": {},
   "outputs": [
    {
     "data": {
      "image/png": "[encoded data removed]",
      "text/plain": [
       "<matplotlib.figure.Figure at 0x2270d528748>"
      ]
     },
     "metadata": {},
     "output_type": "display_data"
    }
   ],
   "source": [
    "def sigmoid(x):\n",
    "    return 1/(1+np.exp(-x))\n",
    "\n",
    "def sigmoidPrime(x):\n",
    "    return sigmoid(x) * (1-sigmoid(x))\n",
    "\n",
    "t = np.arange(-5., 5., 0.5)\n",
    "plt.plot(t, sigmoid(t))\n",
    "plt.plot(t, sigmoidPrime(t))\n",
    "plt.show()"
   ]
  },
  {
   "cell_type": "code",
   "execution_count": 4,
   "metadata": {
    "collapsed": true
   },
   "outputs": [],
   "source": [
    "#Read data from fie\n",
    "data = np.genfromtxt(\"breast-cancer.data\", delimiter=\",\", missing_values=\"?\", filling_values=1.)\n",
    "\n",
    "#Separate the X\n",
    "dataX = data[:, 1:-1]\n",
    "#Separate the Y\n",
    "pre_dataY = data[:, -1]\n",
    "#Convert the Y to one hot\n",
    "dataY = np.zeros((pre_dataY.size, 2))\n",
    "\n",
    "for i in range(len(pre_dataY)):\n",
    "    if pre_dataY[i] == 2:\n",
    "        dataY[i][0] = 1\n",
    "    else:\n",
    "        dataY[i][1] = 1"
   ]
  },
  {
   "cell_type": "code",
   "execution_count": 5,
   "metadata": {
    "collapsed": true
   },
   "outputs": [],
   "source": [
    "#Mix up the data\n",
    "permutation = np.random.permutation(dataX.shape[0])\n",
    "dataX = dataX[permutation]\n",
    "dataY = dataY[permutation]"
   ]
  },
  {
   "cell_type": "code",
   "execution_count": 6,
   "metadata": {
    "collapsed": true
   },
   "outputs": [],
   "source": [
    "#Set network variables and hyperparameters\n",
    "nIn = 9\n",
    "nHidden = 25\n",
    "nOut = 2\n",
    "alpha = 0.01\n",
    "nEpochs = 1500\n",
    "testSplit = 0.15"
   ]
  },
  {
   "cell_type": "code",
   "execution_count": 7,
   "metadata": {
    "collapsed": true
   },
   "outputs": [],
   "source": [
    "#Forward propogation\n",
    "def nn_forward(X, W1, W2):\n",
    "    x = X.reshape(-1, nIn)\n",
    "    \n",
    "    layer2 = np.dot(x, W1)\n",
    "    layer2 = sigmoid(layer2)\n",
    "    \n",
    "    out = np.dot(layer2, W2)\n",
    "    out = sigmoid(out)\n",
    "    \n",
    "    return out"
   ]
  },
  {
   "cell_type": "code",
   "execution_count": 8,
   "metadata": {
    "collapsed": true
   },
   "outputs": [],
   "source": [
    "#Network training\n",
    "def train(X, Y, W1, W2):\n",
    "    #Forward propogation\n",
    "    x = X.reshape(-1, nIn)\n",
    "    Y = Y.reshape(-1, nOut)\n",
    "    \n",
    "    layer2 = np.dot(x, W1)\n",
    "    a_layer2 = sigmoid(layer2)\n",
    "    \n",
    "    out = np.dot(a_layer2, W2)\n",
    "    a_out = sigmoid(out)\n",
    "    \n",
    "    #Check if prediction is correct\n",
    "    if np.argmax(a_out) == np.argmax(Y):\n",
    "        accuracy = 1\n",
    "    else:\n",
    "        accuracy = 0\n",
    "    \n",
    "    #Calculate loss\n",
    "    loss = np.sum(0.5 * (Y - a_out) ** 2)\n",
    "    \n",
    "    #Backpropogate\n",
    "    delta_loss = (Y - a_out) * -sigmoidPrime(out)\n",
    "    delta_W2 = np.dot(layer2.T, delta_loss)\n",
    "    \n",
    "    delta_loss = np.dot(delta_loss, W2.T) * sigmoidPrime(layer2)\n",
    "    delta_W1 = np.dot(X.T.reshape(nIn, 1), delta_loss)\n",
    "    \n",
    "    #Update weights\n",
    "    W2 = W2 - alpha * delta_W2\n",
    "    W1 = W1 - alpha * delta_W1\n",
    "    \n",
    "    return W1, W2, loss, accuracy"
   ]
  },
  {
   "cell_type": "code",
   "execution_count": 9,
   "metadata": {
    "collapsed": true
   },
   "outputs": [],
   "source": [
    "#Initialize weights\n",
    "losses = []\n",
    "W1 = np.random.rand(nIn, nHidden) * 0.5\n",
    "W2 = np.random.rand(nHidden, nOut) * 0.5"
   ]
  },
  {
   "cell_type": "code",
   "execution_count": null,
   "metadata": {},
   "outputs": [],
   "source": [
    "#Number of data points used for testing\n",
    "num_test = int(testSplit * len(data))\n",
    "\n",
    "#Split data into train and test\n",
    "trainX = dataX[:-num_test]\n",
    "testX = dataX[-num_test:]\n",
    "\n",
    "trainY = dataY[:-num_test]\n",
    "testY = dataY[-num_test:]"
   ]
  },
  {
   "cell_type": "code",
   "execution_count": null,
   "metadata": {},
   "outputs": [
    {
     "name": "stdout",
     "output_type": "stream",
     "text": [
      "Epoch 0 Loss: 0.08791475992619124\n",
      "\tAccuracy: 0.007899159663865547\n",
      "Epoch 50 Loss: 0.05254093231988382\n",
      "\tAccuracy: 0.7655462184873949\n",
      "Epoch 100 Loss: 0.011174203211829353\n",
      "\tAccuracy: 0.8504201680672269\n",
      "Epoch 150 Loss: 0.00017747758620940548\n",
      "\tAccuracy: 0.8494789915966386\n",
      "Epoch 200 Loss: 0.00023380887043756627\n",
      "\tAccuracy: 0.8518319327731092\n",
      "Epoch 250 Loss: 0.00624782287086785\n",
      "\tAccuracy: 0.8548571428571429\n",
      "Epoch 300 Loss: 0.005588012077494308\n",
      "\tAccuracy: 0.8614117647058823\n",
      "Epoch 350 Loss: 0.011914649039796617\n",
      "\tAccuracy: 0.8670588235294118\n",
      "Epoch 400 Loss: 0.012139489795893625\n",
      "\tAccuracy: 0.869344537815126\n",
      "Epoch 450 Loss: 0.01152746039285671\n",
      "\tAccuracy: 0.8705882352941177\n",
      "Epoch 500 Loss: 0.010624118726956767\n",
      "\tAccuracy: 0.8705882352941177\n",
      "Epoch 550 Loss: 0.00967445014650203\n",
      "\tAccuracy: 0.8705882352941177\n",
      "Epoch 600 Loss: 0.008786871097589848\n",
      "\tAccuracy: 0.8705882352941177\n",
      "Epoch 650 Loss: 0.007986909898633425\n",
      "\tAccuracy: 0.8705882352941177\n",
      "Epoch 700 Loss: 0.007272706771793913\n",
      "\tAccuracy: 0.8705882352941177\n",
      "Epoch 750 Loss: 0.0066408544784942\n",
      "\tAccuracy: 0.8705882352941177\n",
      "Epoch 800 Loss: 0.006090395876137227\n",
      "\tAccuracy: 0.8705882352941177\n"
     ]
    }
   ],
   "source": [
    "#Training loop\n",
    "correct = 0\n",
    "for j in range(nEpochs):\n",
    "    for i in range(trainX.shape[0]):\n",
    "        W1, W2, loss, c = train(trainX[i], trainY[i], W1, W2)\n",
    "        correct += c\n",
    "    #Print an update on loss and accuracy\n",
    "    if j % 50 == 0:\n",
    "        accuracy = correct / (50 * trainX.shape[0])\n",
    "        print(\"Epoch {} Loss: {}\\n\\tAccuracy: {}\".format(j, loss, accuracy))\n",
    "        correct = 0\n",
    "        total = 0\n",
    "    #Track the loss history\n",
    "    if j % 5 == 0:\n",
    "        losses.append(loss)"
   ]
  },
  {
   "cell_type": "code",
   "execution_count": null,
   "metadata": {},
   "outputs": [],
   "source": [
    "#Plot the losses\n",
    "plt.plot(losses)\n",
    "plt.show()"
   ]
  },
  {
   "cell_type": "code",
   "execution_count": null,
   "metadata": {},
   "outputs": [],
   "source": [
    "correct = 0\n",
    "total = len(testX)\n",
    "\n",
    "#Calculate the accuracy\n",
    "for i in range(total):\n",
    "    pred = np.argmax(nn_forward(testX[i], W1, W2))+1\n",
    "    actual = np.argmax(testY[i])+1\n",
    "    \n",
    "    #print(\"Prediction: Type {}\".format(pred))\n",
    "    #print(\"Actual: Type {}\\n\".format(actual))\n",
    "    \n",
    "    if pred == actual:\n",
    "        correct += 1\n",
    "    \n",
    "print(\"Accuracy: {}%\".format(correct/total))"
   ]
  }
 ],
 "metadata": {
  "kernelspec": {
   "display_name": "Python 3",
   "language": "python",
   "name": "python3"
  },
  "language_info": {
   "codemirror_mode": {
    "name": "ipython",
    "version": 3
   },
   "file_extension": ".py",
   "mimetype": "text/x-python",
   "name": "python",
   "nbconvert_exporter": "python",
   "pygments_lexer": "ipython3",
   "version": "3.5.0"
  }
 },
 "nbformat": 4,
 "nbformat_minor": 2
}
