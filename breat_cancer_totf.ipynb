{
 "cells": [
  {
   "cell_type": "code",
   "execution_count": 1,
   "metadata": {
    "collapsed": true
   },
   "outputs": [],
   "source": [
    "import numpy as np\n",
    "from matplotlib import pyplot as plt"
   ]
  },
  {
   "cell_type": "code",
   "execution_count": 2,
   "metadata": {
    "collapsed": true
   },
   "outputs": [],
   "source": [
    "np.random.seed(0)"
   ]
  },
  {
   "cell_type": "code",
   "execution_count": 3,
   "metadata": {},
   "outputs": [
    {
     "data": {
      "image/png": "[encoded data removed]",
      "text/plain": [
       "<matplotlib.figure.Figure at 0x27660c89780>"
      ]
     },
     "metadata": {},
     "output_type": "display_data"
    }
   ],
   "source": [
    "def sigmoid(x):\n",
    "    return 1/(1+np.exp(-x))\n",
    "\n",
    "def sigmoidPrime(x):\n",
    "    return sigmoid(x) * (1-sigmoid(x))\n",
    "\n",
    "t = np.arange(-5., 5., 0.5)\n",
    "plt.plot(t, sigmoid(t))\n",
    "plt.plot(t, sigmoidPrime(t))\n",
    "plt.show()"
   ]
  },
  {
   "cell_type": "code",
   "execution_count": 4,
   "metadata": {
    "collapsed": true
   },
   "outputs": [],
   "source": [
    "#Read data from fie\n",
    "data = np.genfromtxt(\"breast-cancer.data\", delimiter=\",\", missing_values=\"?\", filling_values=1.)\n",
    "\n",
    "#Separate the X\n",
    "dataX = data[:, 1:-1]\n",
    "#Separate the Y\n",
    "pre_dataY = data[:, -1]\n",
    "#Convert the Y to one hot\n",
    "dataY = np.zeros((pre_dataY.size, 2))\n",
    "\n",
    "for i in range(len(pre_dataY)):\n",
    "    if pre_dataY[i] == 2:\n",
    "        dataY[i][0] = 1\n",
    "    else:\n",
    "        dataY[i][1] = 1"
   ]
  },
  {
   "cell_type": "code",
   "execution_count": 5,
   "metadata": {
    "collapsed": true
   },
   "outputs": [],
   "source": [
    "#Mix up the data\n",
    "permutation = np.random.permutation(dataX.shape[0])\n",
    "dataX = dataX[permutation]\n",
    "dataY = dataY[permutation]"
   ]
  },
  {
   "cell_type": "code",
   "execution_count": 6,
   "metadata": {
    "collapsed": true
   },
   "outputs": [],
   "source": [
    "#Set network variables and hyperparameters\n",
    "nIn = 9\n",
    "nHidden = 25\n",
    "nOut = 2\n",
    "alpha = 0.01\n",
    "nEpochs = 1500\n",
    "testSplit = 0.15"
   ]
  },
  {
   "cell_type": "code",
   "execution_count": 7,
   "metadata": {
    "collapsed": true
   },
   "outputs": [],
   "source": [
    "#Forward propogation\n",
    "def nn_forward(X, W1, W2):\n",
    "    x = X.reshape(-1, nIn)\n",
    "    \n",
    "    layer2 = np.dot(x, W1)\n",
    "    layer2 = sigmoid(layer2)\n",
    "    \n",
    "    out = np.dot(layer2, W2)\n",
    "    out = sigmoid(out)\n",
    "    \n",
    "    return out"
   ]
  },
  {
   "cell_type": "code",
   "execution_count": 8,
   "metadata": {
    "collapsed": true
   },
   "outputs": [],
   "source": [
    "#Network training\n",
    "def train(X, Y, W1, W2):\n",
    "    #Forward propogation\n",
    "    x = X.reshape(-1, nIn)\n",
    "    Y = Y.reshape(-1, nOut)\n",
    "    \n",
    "    layer2 = np.dot(x, W1)\n",
    "    a_layer2 = sigmoid(layer2)\n",
    "    \n",
    "    out = np.dot(a_layer2, W2)\n",
    "    a_out = sigmoid(out)\n",
    "    \n",
    "    #Check if prediction is correct\n",
    "    if np.argmax(a_out) == np.argmax(Y):\n",
    "        accuracy = 1\n",
    "    else:\n",
    "        accuracy = 0\n",
    "    \n",
    "    #Calculate loss\n",
    "    loss = np.sum(0.5 * (Y - a_out) ** 2)\n",
    "    \n",
    "    #Backpropogate\n",
    "    delta_loss = (Y - a_out) * -sigmoidPrime(out)\n",
    "    delta_W2 = np.dot(layer2.T, delta_loss)\n",
    "    \n",
    "    delta_loss = np.dot(delta_loss, W2.T) * sigmoidPrime(layer2)\n",
    "    delta_W1 = np.dot(X.T.reshape(nIn, 1), delta_loss)\n",
    "    \n",
    "    #Update weights\n",
    "    W2 = W2 - alpha * delta_W2\n",
    "    W1 = W1 - alpha * delta_W1\n",
    "    \n",
    "    return W1, W2, loss, accuracy"
   ]
  },
  {
   "cell_type": "code",
   "execution_count": 9,
   "metadata": {
    "collapsed": true
   },
   "outputs": [],
   "source": [
    "#Initialize weights\n",
    "losses = []\n",
    "W1 = np.random.rand(nIn, nHidden) * 0.5\n",
    "W2 = np.random.rand(nHidden, nOut) * 0.5"
   ]
  },
  {
   "cell_type": "code",
   "execution_count": 10,
   "metadata": {},
   "outputs": [],
   "source": [
    "#Number of data points used for testing\n",
    "num_test = int(testSplit * len(data))\n",
    "\n",
    "#Split data into train and test\n",
    "trainX = dataX[:-num_test]\n",
    "testX = dataX[-num_test:]\n",
    "\n",
    "trainY = dataY[:-num_test]\n",
    "testY = dataY[-num_test:]"
   ]
  },
  {
   "cell_type": "code",
   "execution_count": 11,
   "metadata": {},
   "outputs": [
    {
     "name": "stdout",
     "output_type": "stream",
     "text": [
      "Epoch 0 Loss: 0.4847098910054156\n",
      "\tAccuracy: 0.007092436974789916\n",
      "Epoch 50 Loss: 0.30322289160649785\n",
      "\tAccuracy: 0.6586890756302521\n",
      "Epoch 100 Loss: 0.24353958179938356\n",
      "\tAccuracy: 0.49747899159663866\n",
      "Epoch 150 Loss: 0.26583679427839174\n",
      "\tAccuracy: 0.40349579831932775\n",
      "Epoch 200 Loss: 0.2821217976288522\n",
      "\tAccuracy: 0.4353613445378151\n",
      "Epoch 250 Loss: 0.5742622629053697\n",
      "\tAccuracy: 0.6319663865546219\n",
      "Epoch 300 Loss: 0.0021346352666951405\n",
      "\tAccuracy: 0.9462857142857143\n",
      "Epoch 350 Loss: 0.00021207374934761257\n",
      "\tAccuracy: 0.9525714285714286\n",
      "Epoch 400 Loss: 0.0008383904984590718\n",
      "\tAccuracy: 0.9408403361344538\n",
      "Epoch 450 Loss: 0.004688880993009483\n",
      "\tAccuracy: 0.9591932773109244\n",
      "Epoch 500 Loss: 0.02304562973032761\n",
      "\tAccuracy: 0.9451764705882353\n",
      "Epoch 550 Loss: 0.0013342131440245123\n",
      "\tAccuracy: 0.8669915966386554\n",
      "Epoch 600 Loss: 0.0023324950910996725\n",
      "\tAccuracy: 0.9472268907563025\n",
      "Epoch 650 Loss: 0.002296559167903758\n",
      "\tAccuracy: 0.9442352941176471\n",
      "Epoch 700 Loss: 0.003947523500371873\n",
      "\tAccuracy: 0.9352605042016807\n",
      "Epoch 750 Loss: 0.05673289573315799\n",
      "\tAccuracy: 0.9025546218487395\n",
      "Epoch 800 Loss: 0.011207933910977373\n",
      "\tAccuracy: 0.918016806722689\n",
      "Epoch 850 Loss: 0.107322360386795\n",
      "\tAccuracy: 0.9656806722689075\n",
      "Epoch 900 Loss: 0.2267252349811969\n",
      "\tAccuracy: 0.9664873949579832\n",
      "Epoch 950 Loss: 0.03945893374475602\n",
      "\tAccuracy: 0.9693445378151261\n",
      "Epoch 1000 Loss: 0.062242663197613214\n",
      "\tAccuracy: 0.973546218487395\n",
      "Epoch 1050 Loss: 0.016435696977259467\n",
      "\tAccuracy: 0.9727058823529412\n",
      "Epoch 1100 Loss: 0.02242916962828148\n",
      "\tAccuracy: 0.974655462184874\n",
      "Epoch 1150 Loss: 0.019800094830004517\n",
      "\tAccuracy: 0.9734117647058823\n",
      "Epoch 1200 Loss: 0.013129832160315824\n",
      "\tAccuracy: 0.9764705882352941\n",
      "Epoch 1250 Loss: 0.018322081851530433\n",
      "\tAccuracy: 0.9737142857142858\n",
      "Epoch 1300 Loss: 0.019578343439899507\n",
      "\tAccuracy: 0.9743865546218488\n",
      "Epoch 1350 Loss: 0.019759256952678488\n",
      "\tAccuracy: 0.9732100840336134\n",
      "Epoch 1400 Loss: 0.01958228507376524\n",
      "\tAccuracy: 0.9732773109243698\n",
      "Epoch 1450 Loss: 0.0345814642913867\n",
      "\tAccuracy: 0.9732773109243698\n"
     ]
    }
   ],
   "source": [
    "#Training loop\n",
    "correct = 0\n",
    "for j in range(nEpochs):\n",
    "    for i in range(trainX.shape[0]):\n",
    "        W1, W2, loss, c = train(trainX[i], trainY[i], W1, W2)\n",
    "        correct += c\n",
    "    #Print an update on loss and accuracy\n",
    "    if j % 50 == 0:\n",
    "        accuracy = correct / (50 * trainX.shape[0])\n",
    "        print(\"Epoch {} Loss: {}\\n\\tAccuracy: {}\".format(j, loss, accuracy))\n",
    "        correct = 0\n",
    "        total = 0\n",
    "    #Track the loss history\n",
    "    if j % 5 == 0:\n",
    "        losses.append(loss)"
   ]
  },
  {
   "cell_type": "code",
   "execution_count": 12,
   "metadata": {},
   "outputs": [
    {
     "data": {
      "image/png": "[encoded data removed]",
      "text/plain": [
       "<matplotlib.figure.Figure at 0x276606e36d8>"
      ]
     },
     "metadata": {},
     "output_type": "display_data"
    }
   ],
   "source": [
    "#Plot the losses\n",
    "plt.plot(losses)\n",
    "plt.show()"
   ]
  },
  {
   "cell_type": "code",
   "execution_count": 13,
   "metadata": {},
   "outputs": [
    {
     "name": "stdout",
     "output_type": "stream",
     "text": [
      "Accuracy: 0.9711538461538461%\n"
     ]
    }
   ],
   "source": [
    "correct = 0\n",
    "total = len(testX)\n",
    "\n",
    "#Calculate the accuracy\n",
    "for i in range(total):\n",
    "    pred = np.argmax(nn_forward(testX[i], W1, W2))+1\n",
    "    actual = np.argmax(testY[i])+1\n",
    "    \n",
    "    #print(\"Prediction: Type {}\".format(pred))\n",
    "    #print(\"Actual: Type {}\\n\".format(actual))\n",
    "    \n",
    "    if pred == actual:\n",
    "        correct += 1\n",
    "    \n",
    "print(\"Accuracy: {}%\".format(correct/total))"
   ]
  }
 ],
 "metadata": {
  "kernelspec": {
   "display_name": "Python 3",
   "language": "python",
   "name": "python3"
  },
  "language_info": {
   "codemirror_mode": {
    "name": "ipython",
    "version": 3
   },
   "file_extension": ".py",
   "mimetype": "text/x-python",
   "name": "python",
   "nbconvert_exporter": "python",
   "pygments_lexer": "ipython3",
   "version": "3.5.0"
  }
 },
 "nbformat": 4,
 "nbformat_minor": 2
}
